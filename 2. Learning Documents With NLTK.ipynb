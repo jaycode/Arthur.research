{
 "cells": [
  {
   "cell_type": "markdown",
   "metadata": {},
   "source": [
    "# Learning Documents With NLTK\n",
    "\n",
    "Let's explore the possibility of learning the documents by creating a corpus for them in python's NLTK package. This is important to help Arthur learns [collocations](http://www.nltk.org/howto/collocations.html) (expressions with multiple words), so it knows when to split tokens with more than one word.\n",
    "\n",
    "The goal here is to split this text, for example:\n",
    "\n",
    "```\n",
    "Finest property in New Brunswick! Modern, luxurious, architectural home takes full advantage of center stage on Lake Utopia in St. George. Panoramic views of the lake, 27,000 sq.ft.under roof and 100+ acres of unspoiled natural beauty. Experience resort-style living with 3 homes, 2 tournament quality outdoor tennis courts, and 1 stadium quality indoor tennis court with state-of-the-art indoor stadium lighting, water park including 2 pools & wading pool with umbrella feature, beach volleyball court, baseball field, custom go-kart track, driving range, indoor basketball court, playground, private dock with boat lift and 3 private beaches. Main home offers expanses of glass flooding the interior with brilliant light, sleek contemporary design, dramatic master suite with custom shower/central tub showcasing unparalleled views, master lanai with drapery screening and built-in Jacuzzi. Two guest homes provide luxurious privacy for visitors enjoying this exquisite estate. Welcome to paradise!\n",
    "```\n",
    "\n",
    "Into this:\n",
    "\n",
    "```\n",
    "[('finest', ), 'property', 'in', '']\n",
    "```\n",
    "\n",
    "Then with human aid turn it into concepts:\n",
    "\n",
    "```\n",
    "[\n",
    "    {\n",
    "        name: 'location',\n",
    "        values: ['new brunswick', 'st. george'],\n",
    "        hints: ['in']\n",
    "    },\n",
    "    {\n",
    "        name: 'features',\n",
    "        values: ['modern', 'luxurious', 'architectural', 'tennis courts', 'built-in jacuzzi', ...]\n",
    "    },\n",
    "    {\n",
    "        name: 'bulding size',\n",
    "        values: ['27,000 sq.ft'],\n",
    "        hints: ['under roof']\n",
    "    },\n",
    "    {\n",
    "        name: 'land size',\n",
    "        values: ['100+ acres'],\n",
    "        hints: ['unspoiled natural beauty']\n",
    "    },\n",
    "    ...\n",
    "]\n",
    "```\n",
    "\n",
    "## 1. Collocations in prebuilt corpus\n",
    "\n",
    "First we will calculate collocations in a corpus that came with NLTK, just to see if this works."
   ]
  },
  {
   "cell_type": "code",
   "execution_count": 5,
   "metadata": {
    "collapsed": false
   },
   "outputs": [
    {
     "data": {
      "text/plain": [
       "[(u'Allon', u'Bacuth'),\n",
       " (u'Ashteroth', u'Karnaim'),\n",
       " (u'Ben', u'Ammi'),\n",
       " (u'En', u'Mishpat'),\n",
       " (u'Jegar', u'Sahadutha'),\n",
       " (u'Salt', u'Sea'),\n",
       " (u'Whoever', u'sheds'),\n",
       " (u'appoint', u'overseers'),\n",
       " (u'aromatic', u'resin'),\n",
       " (u'cutting', u'instrument')]"
      ]
     },
     "execution_count": 5,
     "metadata": {},
     "output_type": "execute_result"
    }
   ],
   "source": [
    "import nltk\n",
    "from nltk.collocations import *\n",
    "bigram_measures = nltk.collocations.BigramAssocMeasures()\n",
    "trigram_measures = nltk.collocations.TrigramAssocMeasures()\n",
    "finder = BigramCollocationFinder.from_words(\n",
    "    nltk.corpus.genesis.words('english-web.txt'))\n",
    "finder.nbest(bigram_measures.pmi, 10)"
   ]
  },
  {
   "cell_type": "markdown",
   "metadata": {},
   "source": [
    "How are corpus words stored and used anyway?"
   ]
  },
  {
   "cell_type": "code",
   "execution_count": 6,
   "metadata": {
    "collapsed": false
   },
   "outputs": [
    {
     "name": "stdout",
     "output_type": "stream",
     "text": [
      "[u'In', u'the', u'beginning', u'God', u'created', ...]\n"
     ]
    }
   ],
   "source": [
    "print(nltk.corpus.genesis.words('english-web.txt'))"
   ]
  },
  {
   "cell_type": "markdown",
   "metadata": {},
   "source": [
    "Alright, turns out we simply need to pass tokenized words into `BigramCollocationFinder.from_words()`."
   ]
  },
  {
   "cell_type": "markdown",
   "metadata": {},
   "source": [
    "## 2. Building our own corpus from plaintext\n",
    "\n",
    "In the above, we inputted `nltk.corpus.genesis.words` into `BigramCollocationFinder`. How do we create our own corpus from some plaintext files? Let's explore it below. This was all from [this stackoverflow discussion](http://stackoverflow.com/questions/4951751/creating-a-new-corpus-with-nltk)."
   ]
  },
  {
   "cell_type": "code",
   "execution_count": 7,
   "metadata": {
    "collapsed": false
   },
   "outputs": [
    {
     "name": "stdout",
     "output_type": "stream",
     "text": [
      "1.txt\n",
      "This is a foo bar sentence.\n",
      "And this is the first txtfile in the corpus.\n",
      "2.txt\n",
      "Are you a foo bar? Yes I am. Possibly, everyone is.\n",
      "\n"
     ]
    }
   ],
   "source": [
    "import os\n",
    "from nltk.corpus.reader.plaintext import PlaintextCorpusReader\n",
    "\n",
    "# Let's create a corpus with 2 texts in different textfile.\n",
    "txt1 = \"\"\"This is a foo bar sentence.\\nAnd this is the first txtfile in the corpus.\"\"\"\n",
    "txt2 = \"\"\"Are you a foo bar? Yes I am. Possibly, everyone is.\\n\"\"\"\n",
    "corpus = [txt1,txt2]\n",
    "\n",
    "# Make new dir for the corpus.\n",
    "corpusdir = 'newcorpus/'\n",
    "if not os.path.isdir(corpusdir):\n",
    "    os.mkdir(corpusdir)\n",
    "\n",
    "# Output the files into the directory.\n",
    "filename = 0\n",
    "for text in corpus:\n",
    "    filename+=1\n",
    "    with open(corpusdir+str(filename)+'.txt','w') as fout:\n",
    "        print>>fout, text\n",
    "\n",
    "# Check that our corpus do exist and the files are correct.\n",
    "assert os.path.isdir(corpusdir)\n",
    "for infile, text in zip(sorted(os.listdir(corpusdir)),corpus):\n",
    "    assert open(corpusdir+infile,'r').read().strip() == text.strip()\n",
    "\n",
    "# Create a new corpus by specifying the parameters\n",
    "# (1) directory of the new corpus\n",
    "# (2) the fileids of the corpus\n",
    "# NOTE: in this case the fileids are simply the filenames.\n",
    "newcorpus = PlaintextCorpusReader('newcorpus/', '.*')\n",
    "\n",
    "import pdb\n",
    "# Access each file in the corpus.\n",
    "for infile in sorted(newcorpus.fileids()):\n",
    "    print infile # The fileids of each file.\n",
    "    fin = newcorpus.open(infile) # Opens the file.\n",
    "    print fin.read().strip() # Prints the content of the file\n",
    "    fin.close()\n",
    "print"
   ]
  },
  {
   "cell_type": "code",
   "execution_count": 8,
   "metadata": {
    "collapsed": false
   },
   "outputs": [
    {
     "name": "stdout",
     "output_type": "stream",
     "text": [
      "This is a foo bar sentence.\n",
      "And this is the first txtfile in the corpus.\n",
      "Are you a foo bar? Yes I am. Possibly, everyone is.\n"
     ]
    }
   ],
   "source": [
    "# Access the plaintext; outputs pure string/basestring.\n",
    "print newcorpus.raw().strip()"
   ]
  },
  {
   "cell_type": "code",
   "execution_count": 10,
   "metadata": {
    "collapsed": false
   },
   "outputs": [
    {
     "name": "stdout",
     "output_type": "stream",
     "text": [
      "[[[u'This', u'is', u'a', u'foo', u'bar', u'sentence', u'.'], [u'And', u'this', u'is', u'the', u'first', u'txtfile', u'in', u'the', u'corpus', u'.']], [[u'Are', u'you', u'a', u'foo', u'bar', u'?'], [u'Yes', u'I', u'am', u'.'], [u'Possibly', u',', u'everyone', u'is', u'.']]]\n"
     ]
    }
   ],
   "source": [
    "# Access paragraphs in the corpus. (list of list of list of strings)\n",
    "# NOTE: NLTK automatically calls nltk.tokenize.sent_tokenize and \n",
    "#       nltk.tokenize.word_tokenize.\n",
    "#\n",
    "# Each element in the outermost list is a paragraph, and\n",
    "# Each paragraph contains sentence(s), and\n",
    "# Each sentence contains token(s)\n",
    "print newcorpus.paras()"
   ]
  },
  {
   "cell_type": "code",
   "execution_count": 11,
   "metadata": {
    "collapsed": false
   },
   "outputs": [
    {
     "name": "stdout",
     "output_type": "stream",
     "text": [
      "[[[u'This', u'is', u'a', u'foo', u'bar', u'sentence', u'.'], [u'And', u'this', u'is', u'the', u'first', u'txtfile', u'in', u'the', u'corpus', u'.']]]\n"
     ]
    }
   ],
   "source": [
    "# To access pargraphs of a specific fileid.\n",
    "print newcorpus.paras(newcorpus.fileids()[0])"
   ]
  },
  {
   "cell_type": "code",
   "execution_count": 12,
   "metadata": {
    "collapsed": false
   },
   "outputs": [
    {
     "name": "stdout",
     "output_type": "stream",
     "text": [
      "[[u'This', u'is', u'a', u'foo', u'bar', u'sentence', u'.'], [u'And', u'this', u'is', u'the', u'first', u'txtfile', u'in', u'the', u'corpus', u'.'], ...]\n"
     ]
    }
   ],
   "source": [
    "# Access sentences in the corpus. (list of list of strings)\n",
    "# NOTE: That the texts are flattened into sentences that contains tokens.\n",
    "print newcorpus.sents()"
   ]
  },
  {
   "cell_type": "code",
   "execution_count": 13,
   "metadata": {
    "collapsed": false
   },
   "outputs": [
    {
     "name": "stdout",
     "output_type": "stream",
     "text": [
      "[[u'This', u'is', u'a', u'foo', u'bar', u'sentence', u'.'], [u'And', u'this', u'is', u'the', u'first', u'txtfile', u'in', u'the', u'corpus', u'.']]\n"
     ]
    }
   ],
   "source": [
    "# To access sentences of a specific fileid.\n",
    "print newcorpus.sents(newcorpus.fileids()[0])"
   ]
  },
  {
   "cell_type": "code",
   "execution_count": 14,
   "metadata": {
    "collapsed": false
   },
   "outputs": [
    {
     "name": "stdout",
     "output_type": "stream",
     "text": [
      "[u'This', u'is', u'a', u'foo', u'bar', u'sentence', ...]\n"
     ]
    }
   ],
   "source": [
    "# Access just tokens/words in the corpus. (list of strings)\n",
    "print newcorpus.words()"
   ]
  },
  {
   "cell_type": "code",
   "execution_count": 15,
   "metadata": {
    "collapsed": false
   },
   "outputs": [
    {
     "name": "stdout",
     "output_type": "stream",
     "text": [
      "[u'This', u'is', u'a', u'foo', u'bar', u'sentence', ...]\n"
     ]
    }
   ],
   "source": [
    "# To access tokens of a specific fileid.\n",
    "print newcorpus.words(newcorpus.fileids()[0])"
   ]
  },
  {
   "cell_type": "markdown",
   "metadata": {},
   "source": [
    "## 3. Collocations in custom corpus\n",
    "\n",
    "Putting the words from our custom corpus into `BigramAssocMeasures`, we get:"
   ]
  },
  {
   "cell_type": "code",
   "execution_count": 16,
   "metadata": {
    "collapsed": false
   },
   "outputs": [
    {
     "data": {
      "text/plain": [
       "[(u',', u'everyone'),\n",
       " (u'?', u'Yes'),\n",
       " (u'And', u'this'),\n",
       " (u'Are', u'you'),\n",
       " (u'I', u'am'),\n",
       " (u'Possibly', u','),\n",
       " (u'Yes', u'I'),\n",
       " (u'first', u'txtfile'),\n",
       " (u'txtfile', u'in'),\n",
       " (u'a', u'foo')]"
      ]
     },
     "execution_count": 16,
     "metadata": {},
     "output_type": "execute_result"
    }
   ],
   "source": [
    "import nltk\n",
    "from nltk.collocations import *\n",
    "bigram_measures = nltk.collocations.BigramAssocMeasures()\n",
    "trigram_measures = nltk.collocations.TrigramAssocMeasures()\n",
    "finder = BigramCollocationFinder.from_words(\n",
    "    newcorpus.words())\n",
    "finder.nbest(bigram_measures.pmi, 10)"
   ]
  },
  {
   "cell_type": "code",
   "execution_count": 17,
   "metadata": {
    "collapsed": false
   },
   "outputs": [
    {
     "data": {
      "text/plain": [
       "32"
      ]
     },
     "execution_count": 17,
     "metadata": {},
     "output_type": "execute_result"
    }
   ],
   "source": [
    "len(newcorpus.words())"
   ]
  },
  {
   "cell_type": "markdown",
   "metadata": {},
   "source": [
    "Looks good. Next, we will look into implementing this with our documents.\n",
    "\n",
    "## 4. BigramAssocMeasures in extracted pdf documents\n",
    "\n",
    "We are going to follow the following pipeline:\n",
    "\n",
    "- Use ArthurReader to export documents into plaintexts.\n",
    "- Get words from them.\n",
    "- Use words to create collocations.\n",
    "- Use collocations in word splitting.\n",
    "\n",
    "The reason ArthurReader is needed when exporting documents is due to the bolded texts issue in pdf i.e. **A Text** would be written as \"A TextA TextA TextA Text\" if we just extract them as they are (when extracted from ArthurDocument, that is). Ideally later on we should keep bold information as feature, but for now let's just remove the duplicates."
   ]
  },
  {
   "cell_type": "markdown",
   "metadata": {},
   "source": [
    "### 4.1. Exporting to plaintexts\n",
    "\n",
    "This section attempts to extract documents and remove duplications."
   ]
  },
  {
   "cell_type": "code",
   "execution_count": 19,
   "metadata": {
    "collapsed": false
   },
   "outputs": [],
   "source": [
    "# Preparing required modules.\n",
    "import os\n",
    "os.sys.path.append(os.path.dirname(os.path.abspath('.')))\n",
    "\n",
    "import sys\n",
    "import inspect\n",
    "base_path = os.path.realpath(\n",
    "    os.path.abspath(\n",
    "        os.path.join(\n",
    "            os.path.split(\n",
    "                inspect.getfile(\n",
    "                    inspect.currentframe()\n",
    "                )\n",
    "            )[0],\n",
    "            '..',\n",
    "            'Arthur.workspace'\n",
    "        )\n",
    "    )\n",
    ")\n",
    "\n",
    "sys.path.append(base_path)\n",
    "\n",
    "class ListTable(list):\n",
    "    \"\"\" Overridden list class which takes a 2-dimensional list of \n",
    "        the form [[1,2,3],[4,5,6]], and renders an HTML Table in \n",
    "        IPython Notebook. \"\"\"\n",
    "    \n",
    "    def _repr_html_(self):\n",
    "        html = [\"<table>\"]\n",
    "        for row in self:\n",
    "            html.append(\"<tr>\")\n",
    "            \n",
    "            for col in row:\n",
    "                html.append(\"<td>{0}</td>\".format(col.encode('utf-8')))\n",
    "            \n",
    "            html.append(\"</tr>\")\n",
    "        html.append(\"</table>\")\n",
    "        return ''.join(html).decode('utf-8')"
   ]
  },
  {
   "cell_type": "code",
   "execution_count": 22,
   "metadata": {
    "collapsed": false
   },
   "outputs": [],
   "source": [
    "from libs.arthur import ArthurDocument\n",
    "from zipfile import ZipFile\n",
    "from libs.arthur.errors import BatchReadingError\n",
    "import numpy as np\n",
    "import os\n",
    "from scipy.spatial import cKDTree\n",
    "\n",
    "# These are prototypes for ArthurReader's methods.\n",
    "\n",
    "def correct_block(block, return_details=False):\n",
    "    \"\"\"Corrects block elements.\n",
    "    \n",
    "    Args:\n",
    "        block(np.array): Block to correct\n",
    "        \n",
    "        return_details(bool): If True, return list instead of only corrected block. This list\n",
    "                              contains details needed for debugging:\n",
    "                              - removed features\n",
    "                              - added features\n",
    "                              Defaults to False\n",
    "    \"\"\"\n",
    "    fxid = ArthurDocument.get_feature_id('x')\n",
    "    fyid = ArthurDocument.get_feature_id('y')\n",
    "    positions = block[:,[fxid,fyid]]\n",
    "    tree = cKDTree(positions)\n",
    "\n",
    "    # Removes duplicate elements that are close together\n",
    "    radius = 0.4\n",
    "    neighbors = tree.query_ball_point(positions, radius)\n",
    "    neighbors = np.unique(neighbors)\n",
    "    # This returns numpy array like:\n",
    "    # [[0, 13, 26, 39] [1, 14, 27, 40] [5, 31, 44, 18] [11, 24, 37, 50]\n",
    "    # [16, 29, 42, 3] [17, 30, 43, 4] [21, 8, 34, 47] [22, 35, 48, 9]\n",
    "    # [32, 45, 19, 6] [36, 23, 10, 49] [38, 12, 25, 51] [41, 28, 2, 15]\n",
    "    # [46, 33, 7, 20] [52] [53] [54] [55] [56] [57] [58] [59] [60] [61] [62]\n",
    "    # [63] [64]]\n",
    "    #\n",
    "    # Which we will then remove duplicates e.g. remove index 13, 26, 39, 14, 27, etc.\n",
    "    removed = []\n",
    "    for n in neighbors:\n",
    "        removed.extend(np.sort(n)[1:])\n",
    "    \n",
    "    # Removes image elements\n",
    "    removed.extend(np.where(block[:,ArthurDocument.get_feature_id('img_width')] != -1)[0].tolist())\n",
    "    \n",
    "    cblock = np.delete(block, removed, axis=0)\n",
    "\n",
    "    if return_details:\n",
    "        return (cblock, removed)\n",
    "    else:\n",
    "        return cblock\n",
    "\n",
    "def get_texts(document):\n",
    "    \"\"\"Get corrected texts from a document.\n",
    "    Returns:\n",
    "        list: one text instance per block.\n",
    "    \"\"\"\n",
    "    blocks = DefaultCluster.create_blocks(document)\n",
    "\n",
    "    texts = []\n",
    "    for idx, block in enumerate(blocks):\n",
    "        cblock = correct_block(block)\n",
    "        texts.append(document.get_text(cblock))\n",
    "    return texts\n",
    "\n",
    "def create_corpus(zip_path, corpus_dir, batch_size=100, start_batch=0, stdout=None, recreate=False):\n",
    "    \"\"\"Create corpus from zip file. A corpus is basically just a list of text files.\n",
    "    Args:\n",
    "        zip_path(str):    Path of zip file to load.\n",
    "        corpus_dir(str):  Path to corpus dir where the files will be written into.\n",
    "        batch_size(int):  Size of batch to be processed. If we have one million documents,\n",
    "                          we'd want to process them in batches. Defaults to 100.\n",
    "        start_batch(int): When an error happens in batch processing, reader will return\n",
    "                          index of the last batch processed. enter that index value to\n",
    "                          start processing from that batch index. Defaults to 0.\n",
    "        stdout(Object):   Pass sys.stdout to print progress, or pass any object with `write`\n",
    "                          method to pass printed progress to it.\n",
    "        overwrite(bool):  Overwrite files as they are created?\n",
    "    \"\"\"\n",
    "    zipfile = ZipFile(zip_path, 'r')\n",
    "    namelist = zipfile.namelist()\n",
    "    jobs_total = len(namelist)\n",
    "    jobs_left = jobs_total - start_batch*batch_size\n",
    "    \n",
    "    def process_batch(zipfile, corpus_dir, batch, total, counter=0, overwrite=False):\n",
    "        for docname in batch:\n",
    "            counter += 1\n",
    "            filename = os.path.join(corpus_dir, docname+'.txt')\n",
    "            if os.path.isfile(filename) and not overwrite:\n",
    "                stdout.write(\"%s already exists (%i/%i)\\n\" % (docname, counter, total))\n",
    "            else:\n",
    "                content = zipfile.read(docname)\n",
    "                stdout.write(\"processing %s (%i/%i)\\n\" % (docname, counter, total))\n",
    "                document = ArthurDocument(content, name=docname)\n",
    "                texts = get_texts(document)\n",
    "                if len(texts) > 0:\n",
    "                    if not os.path.isdir(corpus_dir):\n",
    "                        os.mkdir(corpus_dir)\n",
    "\n",
    "                    with open(filename,'w') as fout:\n",
    "                        for text in texts:\n",
    "                            print>>fout, text\n",
    "                else:\n",
    "                    stdout.write(\"    empty text! moving on...\\n\")\n",
    "\n",
    "    while jobs_left > 0:\n",
    "        job_start = jobs_total - jobs_left\n",
    "        job_end = job_start + batch_size\n",
    "        batch = namelist[job_start:job_end]\n",
    "        process_batch(zipfile, corpus_dir, batch, jobs_total, job_start)\n",
    "        jobs_left -= batch_size\n",
    "\n",
    "    zipfile.close()\n"
   ]
  },
  {
   "cell_type": "code",
   "execution_count": 23,
   "metadata": {
    "collapsed": false,
    "scrolled": true
   },
   "outputs": [
    {
     "name": "stdout",
     "output_type": "stream",
     "text": [
      "V1123680.pdf already exists (1/300)\n",
      "V1119135.pdf already exists (2/300)\n",
      "V1102480.pdf already exists (3/300)\n",
      "V1123741.pdf already exists (4/300)\n",
      "V1119430.pdf already exists (5/300)\n",
      "V1122760.pdf already exists (6/300)\n",
      "V1123301.pdf already exists (7/300)\n",
      "F1439898.pdf already exists (8/300)\n",
      "V1116097.pdf already exists (9/300)\n",
      "V1124383.pdf already exists (10/300)\n",
      "V1120838.pdf already exists (11/300)\n",
      "V1117770.pdf already exists (12/300)\n",
      "V1104999.pdf already exists (13/300)\n",
      "V1099142.pdf already exists (14/300)\n",
      "V1123148.pdf already exists (15/300)\n",
      "V1081878.pdf already exists (16/300)\n",
      "V1104283.pdf already exists (17/300)\n",
      "V1114927.pdf already exists (18/300)\n",
      "V1099185.pdf already exists (19/300)\n",
      "V1106593.pdf already exists (20/300)\n",
      "F1440892.pdf already exists (21/300)\n",
      "V1084554.pdf already exists (22/300)\n",
      "V1121393.pdf already exists (23/300)\n",
      "V1114732.pdf already exists (24/300)\n",
      "348906.pdf already exists (25/300)\n",
      "V1123093.pdf already exists (26/300)\n",
      "V1125886.pdf already exists (27/300)\n",
      "V1106471.pdf already exists (28/300)\n",
      "V1123295.pdf already exists (29/300)\n",
      "F1437417.pdf already exists (30/300)\n",
      "V1113765.pdf already exists (31/300)\n",
      "V1069495.pdf already exists (32/300)\n",
      "373787.pdf already exists (33/300)\n",
      "F1428720.pdf already exists (34/300)\n",
      "385472.pdf already exists (35/300)\n",
      "F1430137.pdf already exists (36/300)\n",
      "V1101209.pdf already exists (37/300)\n",
      "V1120451.pdf already exists (38/300)\n",
      "V1097237.pdf already exists (39/300)\n",
      "10091948.pdf already exists (40/300)\n",
      "F1433697.pdf already exists (41/300)\n",
      "10090774.pdf already exists (42/300)\n",
      "V1119133.pdf already exists (43/300)\n",
      "V1122664.pdf already exists (44/300)\n",
      "V1115900.pdf already exists (45/300)\n",
      "351454.pdf already exists (46/300)\n",
      "V1099419.pdf already exists (47/300)\n",
      "V1118264.pdf already exists (48/300)\n",
      "V1118949.pdf already exists (49/300)\n",
      "V1125756.pdf already exists (50/300)\n",
      "V1114934.pdf already exists (51/300)\n",
      "V1112094.pdf already exists (52/300)\n",
      "V1117596.pdf already exists (53/300)\n",
      "V1097961.pdf already exists (54/300)\n",
      "E3366096.pdf already exists (55/300)\n",
      "V1124278.pdf already exists (56/300)\n",
      "V1114166.pdf already exists (57/300)\n",
      "V1097187.pdf already exists (58/300)\n",
      "V1109592.pdf already exists (59/300)\n",
      "10099383.pdf already exists (60/300)\n",
      "V1095804.pdf already exists (61/300)\n",
      "V1122293.pdf already exists (62/300)\n",
      "V1104995.pdf already exists (63/300)\n",
      "V1118241.pdf already exists (64/300)\n",
      "V1109058.pdf already exists (65/300)\n",
      "V1111616.pdf already exists (66/300)\n",
      "V1114153.pdf already exists (67/300)\n",
      "F1441174.pdf already exists (68/300)\n",
      "V1122020.pdf already exists (69/300)\n",
      "V1117553.pdf already exists (70/300)\n",
      "F1440272.pdf already exists (71/300)\n",
      "V1123500.pdf already exists (72/300)\n",
      "V1096160.pdf already exists (73/300)\n",
      "V1104242.pdf already exists (74/300)\n",
      "V1067018.pdf already exists (75/300)\n",
      "V1086138.pdf already exists (76/300)\n",
      "V1080274.pdf already exists (77/300)\n",
      "V1097513.pdf already exists (78/300)\n",
      "V1113467.pdf already exists (79/300)\n",
      "V1102318.pdf already exists (80/300)\n",
      "V1112391.pdf already exists (81/300)\n",
      "V1107111.pdf already exists (82/300)\n",
      "F1436762.pdf already exists (83/300)\n",
      "V1121800.pdf already exists (84/300)\n",
      "C4006709.pdf already exists (85/300)\n",
      "V1124015.pdf already exists (86/300)\n",
      "V1114000.pdf already exists (87/300)\n",
      "10095140.pdf already exists (88/300)\n",
      "V1106596.pdf already exists (89/300)\n",
      "V1118040.pdf already exists (90/300)\n",
      "V1124059.pdf already exists (91/300)\n",
      "V1105289.pdf already exists (92/300)\n",
      "V1125072.pdf already exists (93/300)\n",
      "V1088335.pdf already exists (94/300)\n",
      "V1125023.pdf already exists (95/300)\n",
      "V1107713.pdf already exists (96/300)\n",
      "V1092694.pdf already exists (97/300)\n",
      "V1125832.pdf already exists (98/300)\n",
      "V1121981.pdf already exists (99/300)\n",
      "V1097093.pdf already exists (100/300)\n",
      "V1119118.pdf already exists (101/300)\n",
      "V1120987.pdf already exists (102/300)\n",
      "F1439887.pdf already exists (103/300)\n",
      "351903.pdf already exists (104/300)\n",
      "V1116019.pdf already exists (105/300)\n",
      "V1105177.pdf already exists (106/300)\n",
      "F1430272.pdf already exists (107/300)\n",
      "V1125447.pdf already exists (108/300)\n",
      "V1097285.pdf already exists (109/300)\n",
      "V1102177.pdf already exists (110/300)\n",
      "V1117659.pdf already exists (111/300)\n",
      "V1122193.pdf already exists (112/300)\n",
      "V1102548.pdf already exists (113/300)\n",
      "V1125794.pdf already exists (114/300)\n",
      "V1120593.pdf already exists (115/300)\n",
      "V1072991.pdf already exists (116/300)\n",
      "V1117056.pdf already exists (117/300)\n",
      "V1124747.pdf already exists (118/300)\n",
      "V1111101.pdf already exists (119/300)\n",
      "V1123523.pdf already exists (120/300)\n",
      "V1082668.pdf already exists (121/300)\n",
      "V981606.pdf already exists (122/300)\n",
      "V1114898.pdf already exists (123/300)\n",
      "F1442790.pdf already exists (124/300)\n",
      "V1111985.pdf already exists (125/300)\n",
      "V1108381.pdf already exists (126/300)\n",
      "V1123105.pdf already exists (127/300)\n",
      "V1121372.pdf already exists (128/300)\n",
      "E3313697.pdf already exists (129/300)\n",
      "V1123831.pdf already exists (130/300)\n",
      "V1117454.pdf already exists (131/300)\n",
      "V1114525.pdf already exists (132/300)\n",
      "V1104291.pdf already exists (133/300)\n",
      "E3391551.pdf already exists (134/300)\n",
      "V1104287.pdf already exists (135/300)\n",
      "10099708.pdf already exists (136/300)\n",
      "10093137.pdf already exists (137/300)\n",
      "SJ152241.pdf already exists (138/300)\n",
      "13070000.pdf already exists (139/300)\n",
      "41257197.pdf already exists (140/300)\n",
      "00390948.pdf already exists (141/300)\n",
      "60088317.pdf already exists (142/300)\n",
      "C4001601.pdf already exists (143/300)\n",
      "C4008847.pdf already exists (144/300)\n",
      "C4011862.pdf already exists (145/300)\n",
      "C3647620.pdf already exists (146/300)\n",
      "C4000958.pdf already exists (147/300)\n",
      "C4014364.pdf already exists (148/300)\n",
      "C4006483.pdf already exists (149/300)\n",
      "C3640664.pdf already exists (150/300)\n",
      "C4006332.pdf already exists (151/300)\n",
      "V1041596.pdf already exists (152/300)\n",
      "V1101775.pdf already exists (153/300)\n",
      "V1121558.pdf already exists (154/300)\n",
      "V1101014.pdf already exists (155/300)\n",
      "V1116606.pdf already exists (156/300)\n",
      "V1119028.pdf already exists (157/300)\n",
      "V1117600.pdf already exists (158/300)\n",
      "V1117508.pdf already exists (159/300)\n",
      "V1104865.pdf already exists (160/300)\n",
      "V1119997.pdf already exists (161/300)\n",
      "F1434302.pdf already exists (162/300)\n",
      "10099650.pdf already exists (163/300)\n",
      "349119.pdf already exists (164/300)\n",
      "V1117985.pdf already exists (165/300)\n",
      "V1117956.pdf already exists (166/300)\n",
      "V1078325.pdf already exists (167/300)\n",
      "V1096647.pdf already exists (168/300)\n",
      "V1116023.pdf already exists (169/300)\n",
      "V1122200.pdf already exists (170/300)\n",
      "F1440036.pdf already exists (171/300)\n",
      "V1117149.pdf already exists (172/300)\n",
      "V1076667.pdf already exists (173/300)\n",
      "V1115083.pdf already exists (174/300)\n",
      "V1116333.pdf already exists (175/300)\n",
      "V1119114.pdf already exists (176/300)\n",
      "V1121557.pdf already exists (177/300)\n",
      "V1121006.pdf already exists (178/300)\n",
      "V1077012.pdf already exists (179/300)\n",
      "F1439755.pdf already exists (180/300)\n",
      "392606.pdf already exists (181/300)\n",
      "F1433307.pdf already exists (182/300)\n",
      "10090865.pdf already exists (183/300)\n",
      "V1125746.pdf already exists (184/300)\n",
      "V1097312.pdf already exists (185/300)\n",
      "C4000662.pdf already exists (186/300)\n",
      "V1079038.pdf already exists (187/300)\n",
      "V1119498.pdf already exists (188/300)\n",
      "V1124248.pdf already exists (189/300)\n",
      "V1105996.pdf already exists (190/300)\n",
      "V1119009.pdf already exists (191/300)\n",
      "F1422736.pdf already exists (192/300)\n",
      "V1108240.pdf already exists (193/300)\n",
      "V1086595.pdf already exists (194/300)\n",
      "V1106553.pdf already exists (195/300)\n",
      "F1433545.pdf already exists (196/300)\n",
      "V1117166.pdf already exists (197/300)\n",
      "V1115935.pdf already exists (198/300)\n",
      "V1123902.pdf already exists (199/300)\n",
      "C3652931.pdf already exists (200/300)\n",
      "V1103145.pdf already exists (201/300)\n",
      "V1080575.pdf already exists (202/300)\n",
      "V1100978.pdf already exists (203/300)\n",
      "V1120732.pdf already exists (204/300)\n",
      "V1119523.pdf already exists (205/300)\n",
      "349860.pdf already exists (206/300)\n",
      "V1121207.pdf already exists (207/300)\n",
      "N3183480.pdf already exists (208/300)\n",
      "N3202699.pdf already exists (209/300)\n",
      "C3120190.pdf already exists (210/300)\n",
      "C3104853.pdf already exists (211/300)\n",
      "W3124013.pdf already exists (212/300)\n",
      "W3199234.pdf already exists (213/300)\n",
      "N3203701.pdf already exists (214/300)\n",
      "N3211853.pdf already exists (215/300)\n",
      "521930797.pdf already exists (216/300)\n",
      "C3140671.pdf already exists (217/300)\n",
      "H3140708.pdf already exists (218/300)\n",
      "C3185841.pdf already exists (219/300)\n",
      "N3162073.pdf already exists (220/300)\n",
      "C3214787.pdf already exists (221/300)\n",
      "W2946072.pdf already exists (222/300)\n",
      "N3214580.pdf already exists (223/300)\n",
      "C3153538.pdf already exists (224/300)\n",
      "N3078731.pdf already exists (225/300)\n",
      "C3211401.pdf already exists (226/300)\n",
      "520940126.pdf already exists (227/300)\n",
      "N3130306.pdf already exists (228/300)\n",
      "N3173212.pdf already exists (229/300)\n",
      "N3171343.pdf already exists (230/300)\n",
      "W3093246.pdf already exists (231/300)\n",
      "W3209997.pdf already exists (232/300)\n",
      "C3166960.pdf already exists (233/300)\n",
      "N3139956.pdf already exists (234/300)\n",
      "481960135.pdf already exists (235/300)\n",
      "C4006818.pdf already exists (236/300)\n",
      "E3402091.pdf already exists (237/300)\n",
      "1409195.pdf already exists (238/300)\n",
      "C3174921.pdf already exists (239/300)\n",
      "C4012236.pdf already exists (240/300)\n",
      "V1120698.pdf already exists (241/300)\n",
      "QR21406417.pdf already exists (242/300)\n",
      "V1113428.pdf already exists (243/300)\n",
      "V1097673.pdf already exists (244/300)\n",
      "V1122559.pdf already exists (245/300)\n",
      "V1115392.pdf already exists (246/300)\n",
      "V1102277.pdf already exists (247/300)\n",
      "V1114539.pdf already exists (248/300)\n",
      "V1115508.pdf already exists (249/300)\n",
      "V1123498.pdf already exists (250/300)\n",
      "V1088985.pdf already exists (251/300)\n",
      "V1066359.pdf already exists (252/300)\n",
      "V1124792.pdf already exists (253/300)\n",
      "V1122834.pdf already exists (254/300)\n",
      "V1120416.pdf already exists (255/300)\n",
      "F1429622.pdf already exists (256/300)\n",
      "V1095995.pdf already exists (257/300)\n",
      "F1439155.pdf already exists (258/300)\n",
      "F1439706.pdf already exists (259/300)\n",
      "353393.pdf already exists (260/300)\n",
      "V1118376.pdf already exists (261/300)\n",
      "348608.pdf already exists (262/300)\n",
      "348418.pdf already exists (263/300)\n",
      "F1426476.pdf already exists (264/300)\n",
      "V1023291.pdf already exists (265/300)\n",
      "V1057605.pdf already exists (266/300)\n",
      "V906290.pdf already exists (267/300)\n",
      "10085286.pdf already exists (268/300)\n",
      "10092912.pdf already exists (269/300)\n",
      "10086622.pdf already exists (270/300)\n",
      "10094899.pdf already exists (271/300)\n",
      "10094151.pdf already exists (272/300)\n",
      "10097297.pdf already exists (273/300)\n",
      "10090891.pdf already exists (274/300)\n",
      "10086107.pdf already exists (275/300)\n",
      "C3646135.pdf already exists (276/300)\n",
      "C4007280.pdf already exists (277/300)\n",
      "C3653337.pdf already exists (278/300)\n",
      "C3652657.pdf already exists (279/300)\n",
      "C3618078.pdf already exists (280/300)\n",
      "C3645887.pdf already exists (281/300)\n",
      "05337591.pdf already exists (282/300)\n",
      "processing 342920.docx (283/300)\n"
     ]
    },
    {
     "ename": "NameError",
     "evalue": "global name 'DefaultCluster' is not defined",
     "output_type": "error",
     "traceback": [
      "\u001b[1;31m---------------------------------------------------------------------------\u001b[0m",
      "\u001b[1;31mNameError\u001b[0m                                 Traceback (most recent call last)",
      "\u001b[1;32m<ipython-input-23-ef14009bf201>\u001b[0m in \u001b[0;36m<module>\u001b[1;34m()\u001b[0m\n\u001b[0;32m      8\u001b[0m \u001b[0mcorpus_dir\u001b[0m \u001b[1;33m=\u001b[0m \u001b[1;34m'corpus'\u001b[0m\u001b[1;33m\u001b[0m\u001b[0m\n\u001b[0;32m      9\u001b[0m \u001b[1;32mtry\u001b[0m\u001b[1;33m:\u001b[0m\u001b[1;33m\u001b[0m\u001b[0m\n\u001b[1;32m---> 10\u001b[1;33m     \u001b[0mcreate_corpus\u001b[0m\u001b[1;33m(\u001b[0m\u001b[0mzip_path\u001b[0m\u001b[1;33m,\u001b[0m \u001b[0mcorpus_dir\u001b[0m\u001b[1;33m,\u001b[0m \u001b[0mstdout\u001b[0m\u001b[1;33m=\u001b[0m\u001b[0msys\u001b[0m\u001b[1;33m.\u001b[0m\u001b[0mstdout\u001b[0m\u001b[1;33m)\u001b[0m\u001b[1;33m\u001b[0m\u001b[0m\n\u001b[0m\u001b[0;32m     11\u001b[0m \u001b[1;32mexcept\u001b[0m \u001b[0mBatchReadingError\u001b[0m \u001b[1;32mas\u001b[0m \u001b[0me\u001b[0m\u001b[1;33m:\u001b[0m\u001b[1;33m\u001b[0m\u001b[0m\n\u001b[0;32m     12\u001b[0m     \u001b[1;32mprint\u001b[0m\u001b[1;33m(\u001b[0m\u001b[0me\u001b[0m\u001b[1;33m.\u001b[0m\u001b[0mmsg\u001b[0m\u001b[1;33m)\u001b[0m\u001b[1;33m\u001b[0m\u001b[0m\n",
      "\u001b[1;32m<ipython-input-22-492fb47eb62e>\u001b[0m in \u001b[0;36mcreate_corpus\u001b[1;34m(zip_path, corpus_dir, batch_size, start_batch, stdout, recreate)\u001b[0m\n\u001b[0;32m    108\u001b[0m         \u001b[0mjob_end\u001b[0m \u001b[1;33m=\u001b[0m \u001b[0mjob_start\u001b[0m \u001b[1;33m+\u001b[0m \u001b[0mbatch_size\u001b[0m\u001b[1;33m\u001b[0m\u001b[0m\n\u001b[0;32m    109\u001b[0m         \u001b[0mbatch\u001b[0m \u001b[1;33m=\u001b[0m \u001b[0mnamelist\u001b[0m\u001b[1;33m[\u001b[0m\u001b[0mjob_start\u001b[0m\u001b[1;33m:\u001b[0m\u001b[0mjob_end\u001b[0m\u001b[1;33m]\u001b[0m\u001b[1;33m\u001b[0m\u001b[0m\n\u001b[1;32m--> 110\u001b[1;33m         \u001b[0mprocess_batch\u001b[0m\u001b[1;33m(\u001b[0m\u001b[0mzipfile\u001b[0m\u001b[1;33m,\u001b[0m \u001b[0mcorpus_dir\u001b[0m\u001b[1;33m,\u001b[0m \u001b[0mbatch\u001b[0m\u001b[1;33m,\u001b[0m \u001b[0mjobs_total\u001b[0m\u001b[1;33m,\u001b[0m \u001b[0mjob_start\u001b[0m\u001b[1;33m)\u001b[0m\u001b[1;33m\u001b[0m\u001b[0m\n\u001b[0m\u001b[0;32m    111\u001b[0m         \u001b[0mjobs_left\u001b[0m \u001b[1;33m-=\u001b[0m \u001b[0mbatch_size\u001b[0m\u001b[1;33m\u001b[0m\u001b[0m\n\u001b[0;32m    112\u001b[0m \u001b[1;33m\u001b[0m\u001b[0m\n",
      "\u001b[1;32m<ipython-input-22-492fb47eb62e>\u001b[0m in \u001b[0;36mprocess_batch\u001b[1;34m(zipfile, corpus_dir, batch, total, counter, overwrite)\u001b[0m\n\u001b[0;32m     93\u001b[0m                 \u001b[0mstdout\u001b[0m\u001b[1;33m.\u001b[0m\u001b[0mwrite\u001b[0m\u001b[1;33m(\u001b[0m\u001b[1;34m\"processing %s (%i/%i)\\n\"\u001b[0m \u001b[1;33m%\u001b[0m \u001b[1;33m(\u001b[0m\u001b[0mdocname\u001b[0m\u001b[1;33m,\u001b[0m \u001b[0mcounter\u001b[0m\u001b[1;33m,\u001b[0m \u001b[0mtotal\u001b[0m\u001b[1;33m)\u001b[0m\u001b[1;33m)\u001b[0m\u001b[1;33m\u001b[0m\u001b[0m\n\u001b[0;32m     94\u001b[0m                 \u001b[0mdocument\u001b[0m \u001b[1;33m=\u001b[0m \u001b[0mArthurDocument\u001b[0m\u001b[1;33m(\u001b[0m\u001b[0mcontent\u001b[0m\u001b[1;33m,\u001b[0m \u001b[0mname\u001b[0m\u001b[1;33m=\u001b[0m\u001b[0mdocname\u001b[0m\u001b[1;33m)\u001b[0m\u001b[1;33m\u001b[0m\u001b[0m\n\u001b[1;32m---> 95\u001b[1;33m                 \u001b[0mtexts\u001b[0m \u001b[1;33m=\u001b[0m \u001b[0mget_texts\u001b[0m\u001b[1;33m(\u001b[0m\u001b[0mdocument\u001b[0m\u001b[1;33m)\u001b[0m\u001b[1;33m\u001b[0m\u001b[0m\n\u001b[0m\u001b[0;32m     96\u001b[0m                 \u001b[1;32mif\u001b[0m \u001b[0mlen\u001b[0m\u001b[1;33m(\u001b[0m\u001b[0mtexts\u001b[0m\u001b[1;33m)\u001b[0m \u001b[1;33m>\u001b[0m \u001b[1;36m0\u001b[0m\u001b[1;33m:\u001b[0m\u001b[1;33m\u001b[0m\u001b[0m\n\u001b[0;32m     97\u001b[0m                     \u001b[1;32mif\u001b[0m \u001b[1;32mnot\u001b[0m \u001b[0mos\u001b[0m\u001b[1;33m.\u001b[0m\u001b[0mpath\u001b[0m\u001b[1;33m.\u001b[0m\u001b[0misdir\u001b[0m\u001b[1;33m(\u001b[0m\u001b[0mcorpus_dir\u001b[0m\u001b[1;33m)\u001b[0m\u001b[1;33m:\u001b[0m\u001b[1;33m\u001b[0m\u001b[0m\n",
      "\u001b[1;32m<ipython-input-22-492fb47eb62e>\u001b[0m in \u001b[0;36mget_texts\u001b[1;34m(document)\u001b[0m\n\u001b[0;32m     56\u001b[0m         \u001b[0mlist\u001b[0m\u001b[1;33m:\u001b[0m \u001b[0mone\u001b[0m \u001b[0mtext\u001b[0m \u001b[0minstance\u001b[0m \u001b[0mper\u001b[0m \u001b[0mblock\u001b[0m\u001b[1;33m.\u001b[0m\u001b[1;33m\u001b[0m\u001b[0m\n\u001b[0;32m     57\u001b[0m     \"\"\"\n\u001b[1;32m---> 58\u001b[1;33m     \u001b[0mblocks\u001b[0m \u001b[1;33m=\u001b[0m \u001b[0mDefaultCluster\u001b[0m\u001b[1;33m.\u001b[0m\u001b[0mcreate_blocks\u001b[0m\u001b[1;33m(\u001b[0m\u001b[0mdocument\u001b[0m\u001b[1;33m)\u001b[0m\u001b[1;33m\u001b[0m\u001b[0m\n\u001b[0m\u001b[0;32m     59\u001b[0m \u001b[1;33m\u001b[0m\u001b[0m\n\u001b[0;32m     60\u001b[0m     \u001b[0mtexts\u001b[0m \u001b[1;33m=\u001b[0m \u001b[1;33m[\u001b[0m\u001b[1;33m]\u001b[0m\u001b[1;33m\u001b[0m\u001b[0m\n",
      "\u001b[1;31mNameError\u001b[0m: global name 'DefaultCluster' is not defined"
     ]
    }
   ],
   "source": [
    "import sys\n",
    "import nltk\n",
    "from nltk.corpus.reader.plaintext import PlaintextCorpusReader\n",
    "from nltk.collocations import *\n",
    "from libs.arthur.errors import BatchReadingError\n",
    "\n",
    "zip_path = 'DRAS_sample_v1_20150605.zip'\n",
    "corpus_dir = 'corpus'\n",
    "try:\n",
    "    create_corpus(zip_path, corpus_dir, stdout=sys.stdout)        \n",
    "except BatchReadingError as e:\n",
    "    print(e.msg)\n",
    "    print('last batch was: %i' % e.last_batch)\n",
    "    # Maybe do some retries here."
   ]
  },
  {
   "cell_type": "markdown",
   "metadata": {},
   "source": [
    "### 4.2. Create Collocations\n",
    "\n",
    "Here's the plan:\n",
    "1. Find collocations in our custom corpus.\n",
    "2. Use them to tokenize a document's content with [MWETokenizer](http://www.nltk.org/api/nltk.tokenize.html#module-nltk.tokenize.mwe)."
   ]
  },
  {
   "cell_type": "code",
   "execution_count": null,
   "metadata": {
    "collapsed": true
   },
   "outputs": [],
   "source": [
    "corpus = PlaintextCorpusReader(corpus_dir, '.*')\n",
    "bigram_measures = nltk.collocations.BigramAssocMeasures()\n",
    "trigram_measures = nltk.collocations.TrigramAssocMeasures()\n",
    "bigram_finder = BigramCollocationFinder.from_words(corpus.words())\n",
    "trigram_finder = TrigramCollocationFinder.from_words(corpus.words())"
   ]
  },
  {
   "cell_type": "code",
   "execution_count": null,
   "metadata": {
    "collapsed": false
   },
   "outputs": [],
   "source": [
    "table1 = ListTable()\n",
    "table1.append(['word1', 'word2'])\n",
    "for pmi in bigram_finder.nbest(bigram_measures.pmi, 10):\n",
    "    table1.append(pmi)\n",
    "table1"
   ]
  },
  {
   "cell_type": "code",
   "execution_count": null,
   "metadata": {
    "collapsed": false
   },
   "outputs": [],
   "source": [
    "table2 = ListTable()\n",
    "table2.append(['word1', 'word2', 'word3'])\n",
    "for pmi in trigram_finder.nbest(trigram_measures.pmi, 10):\n",
    "    table2.append(pmi)\n",
    "table2"
   ]
  },
  {
   "cell_type": "markdown",
   "metadata": {
    "collapsed": true
   },
   "source": [
    "### 4.3. Tokenize A Document with MWETokenizer\n",
    "\n",
    "The next step is to tokenize our document, extracting all the data fields from them. Each \n",
    "\n",
    "\n",
    "keep the results of these bigrams and trigrams, then use them for MWETokenizer."
   ]
  },
  {
   "cell_type": "code",
   "execution_count": null,
   "metadata": {
    "collapsed": false
   },
   "outputs": [],
   "source": [
    "from nltk import word_tokenize\n",
    "from nltk.tokenize import MWETokenizer\n",
    "\n",
    "tokenizer = MWETokenizer(bigram_finder.nbest(bigram_measures.pmi, 30000))\n",
    "\n",
    "pdf_path = os.path.join(base_path, 'exploration', 'pdfs', '10086622.pdf')\n",
    "with open(pdf_path, 'r') as f:\n",
    "    document = ArthurDocument(f.read())\n",
    "    texts = get_texts(document)\n",
    "    text = ' '.join(texts)\n",
    "    tokenized = tokenizer.tokenize(word_tokenize(text))\n",
    "    print tokenized"
   ]
  }
 ],
 "metadata": {
  "kernelspec": {
   "display_name": "Python 2",
   "language": "python",
   "name": "python2"
  },
  "language_info": {
   "codemirror_mode": {
    "name": "ipython",
    "version": 2
   },
   "file_extension": ".py",
   "mimetype": "text/x-python",
   "name": "python",
   "nbconvert_exporter": "python",
   "pygments_lexer": "ipython2",
   "version": "2.7.6"
  }
 },
 "nbformat": 4,
 "nbformat_minor": 0
}
