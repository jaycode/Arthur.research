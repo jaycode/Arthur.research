{
 "cells": [
  {
   "cell_type": "code",
   "execution_count": 1,
   "metadata": {
    "collapsed": true
   },
   "outputs": [],
   "source": [
    "import tensorflow as tf"
   ]
  },
  {
   "cell_type": "markdown",
   "metadata": {},
   "source": [
    "# Classifying Document Information\n",
    "\n",
    "We are going to use the system as described in [1] to classify the data within our documents.\n",
    "\n",
    "Basically we need to get four feature types, for example in \"Property Type: Single Family\" in one document:\n",
    "- **Precontext char 3-grams**: `['Pro', 'rop', 'ope', 'per', 'ert', 'rty', 'ty_', 'y_T', '_Ty', 'Typ', 'ype']\n",
    "- **Lowercase value tokens**: `single family`\n",
    "- **Lowercase value char 3-grams**: `['sin', 'ing', 'ngl', 'gle', 'le_', 'e_f', '_fa', 'fam', 'ami', 'mil', 'ily']\n",
    "- **Value token types**: \n"
   ]
  },
  {
   "cell_type": "code",
   "execution_count": null,
   "metadata": {
    "collapsed": true
   },
   "outputs": [],
   "source": [
    "# C = domain schema, c = schema columns\n",
    "C = ['property type', 'address',\n",
    "     'building type', 'storeys',\n",
    "     'title', 'land size',\n",
    "     'bedrooms', 'bathrooms',\n",
    "     'built in', 'price',\n",
    "     'measurements', 'parking type'\n",
    "     'pool type', 'total parking space']\n",
    "\n",
    "# F = data fields, f = data field\n",
    "# F = [['Page 1 of 4', '< Back', 'Listing ID:', '10086622', 'Description',\n",
    "#      'to', 'reside', 'on this', 'property', ...\n",
    "#      'Single Family', '1475 Pritchard Drive , West Kelowna, British Columbia V4T1X4',\n",
    "#      'House', 1,\n",
    "#      'Freehold', '5.3825 hec|10 - 50 acres',\n",
    "#      5, 6,\n",
    "#      1997, '$7,995,000',\n",
    "#      'Metric', 'Attached garage',\n",
    "#      'Outdoor pool, Pool', 3, ...]]\n",
    "\n",
    "F = ArthurReader.read(document)\n",
    "\n",
    "from libs.arthur.reader import read, create_corpus\n",
    "\n",
    "zip_path = os.path.join(base_path, 'lib', 'test', 'test.zip')\n",
    "corpus_dir = 'testcorpus'\n",
    "create_corpus(zip_path, corpus_dir, overwrite=True)\n"
   ]
  },
  {
   "cell_type": "markdown",
   "metadata": {},
   "source": [
    "## Feature Types"
   ]
  },
  {
   "cell_type": "code",
   "execution_count": null,
   "metadata": {
    "collapsed": true
   },
   "outputs": [],
   "source": [
    "# K = feature types, k = feature type\n"
   ]
  },
  {
   "cell_type": "markdown",
   "metadata": {},
   "source": [
    "## KL-Divergence\n",
    "\n",
    "$$KL_k(c||f) = \\sum\\limits_{i=1} P_{kc}(i)log \\dfrac{P_{kc}(i)}{P_kf(i)}$$"
   ]
  },
  {
   "cell_type": "code",
   "execution_count": null,
   "metadata": {
    "collapsed": true
   },
   "outputs": [],
   "source": [
    "KL = tf.Variable()"
   ]
  },
  {
   "cell_type": "code",
   "execution_count": null,
   "metadata": {
    "collapsed": true
   },
   "outputs": [],
   "source": []
  }
 ],
 "metadata": {
  "kernelspec": {
   "display_name": "Python 2",
   "language": "python",
   "name": "python2"
  },
  "language_info": {
   "codemirror_mode": {
    "name": "ipython",
    "version": 2
   },
   "file_extension": ".py",
   "mimetype": "text/x-python",
   "name": "python",
   "nbconvert_exporter": "python",
   "pygments_lexer": "ipython2",
   "version": "2.7.6"
  }
 },
 "nbformat": 4,
 "nbformat_minor": 0
}
