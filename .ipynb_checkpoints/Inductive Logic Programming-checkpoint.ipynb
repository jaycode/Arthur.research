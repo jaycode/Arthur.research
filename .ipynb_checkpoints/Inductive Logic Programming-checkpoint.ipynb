{
 "cells": [
  {
   "cell_type": "markdown",
   "metadata": {},
   "source": [
    "# Basics"
   ]
  },
  {
   "cell_type": "code",
   "execution_count": 1,
   "metadata": {
    "collapsed": true
   },
   "outputs": [],
   "source": [
    "from pyDatalog import pyDatalog"
   ]
  },
  {
   "cell_type": "code",
   "execution_count": 3,
   "metadata": {
    "collapsed": false
   },
   "outputs": [],
   "source": [
    "# Variables must start with uppercase letters.\n",
    "pyDatalog.create_terms('X,Y')"
   ]
  },
  {
   "cell_type": "code",
   "execution_count": 4,
   "metadata": {
    "collapsed": false
   },
   "outputs": [
    {
     "name": "stdout",
     "output_type": "stream",
     "text": [
      "X\n",
      "-\n",
      "1\n"
     ]
    }
   ],
   "source": [
    "# give me all the X so that X is 1\n",
    "print(X==1)"
   ]
  },
  {
   "cell_type": "code",
   "execution_count": 5,
   "metadata": {
    "collapsed": false
   },
   "outputs": [
    {
     "name": "stdout",
     "output_type": "stream",
     "text": [
      "X    | Y    \n",
      "-----|------\n",
      "True | False\n"
     ]
    }
   ],
   "source": [
    "# give me all the X and Y so that X is True and Y is False\n",
    "print((X==True) & (Y==False))"
   ]
  },
  {
   "cell_type": "code",
   "execution_count": 6,
   "metadata": {
    "collapsed": false
   },
   "outputs": [
    {
     "name": "stdout",
     "output_type": "stream",
     "text": [
      "[]\n"
     ]
    }
   ],
   "source": [
    "# give me all the X that are both True and False\n",
    "print((X==True) & (X==False))"
   ]
  },
  {
   "cell_type": "code",
   "execution_count": 7,
   "metadata": {
    "collapsed": false
   },
   "outputs": [
    {
     "name": "stdout",
     "output_type": "stream",
     "text": [
      "Please enter your name : test\n",
      "X    | Y      \n",
      "-----|--------\n",
      "test | Hello t\n"
     ]
    }
   ],
   "source": [
    "# give me all the X and Y so that X is a name and Y is 'Hello ' followed by the first letter of X\n",
    "print((X==raw_input('Please enter your name : ')) & (Y=='Hello ' + X[0]))"
   ]
  },
  {
   "cell_type": "code",
   "execution_count": 14,
   "metadata": {
    "collapsed": false
   },
   "outputs": [
    {
     "name": "stdout",
     "output_type": "stream",
     "text": [
      "[]\n"
     ]
    }
   ],
   "source": [
    "# give me all the X and Y so that Y is 1 and Y is X+1\n",
    "print((Y==1) & (Y==X+1))"
   ]
  },
  {
   "cell_type": "code",
   "execution_count": 16,
   "metadata": {
    "collapsed": false
   },
   "outputs": [
    {
     "name": "stdout",
     "output_type": "stream",
     "text": [
      "X         | Y\n",
      "----------|--\n",
      "(1, 2, 3) | 3\n"
     ]
    }
   ],
   "source": [
    "# Nested tuples\n",
    "print((X==(1,2)+(3,)) & (Y==X[2]))"
   ]
  },
  {
   "cell_type": "code",
   "execution_count": 2,
   "metadata": {
    "collapsed": false
   },
   "outputs": [
    {
     "name": "stdout",
     "output_type": "stream",
     "text": [
      "X | Y\n",
      "--|--\n",
      "2 | 4\n"
     ]
    }
   ],
   "source": [
    "# Use own function\n",
    "def exponent(a):\n",
    "    return a*a\n",
    "\n",
    "pyDatalog.create_terms('X,Y,exponent')\n",
    "print((X==2) & (Y==exponent(X)))"
   ]
  },
  {
   "cell_type": "code",
   "execution_count": 3,
   "metadata": {
    "collapsed": false
   },
   "outputs": [
    {
     "name": "stdout",
     "output_type": "stream",
     "text": [
      "X | Y            \n",
      "--|--------------\n",
      "2 | 1.41421356237\n"
     ]
    }
   ],
   "source": [
    "# give me all the X and Y so that X is 2 and Y is the square root of X\n",
    "import math\n",
    "pyDatalog.create_terms('math')\n",
    "print(X==2) & (Y==math.sqrt(X))"
   ]
  },
  {
   "cell_type": "markdown",
   "metadata": {},
   "source": [
    "# Loops"
   ]
  },
  {
   "cell_type": "code",
   "execution_count": 1,
   "metadata": {
    "collapsed": true
   },
   "outputs": [],
   "source": [
    "from pyDatalog import pyDatalog\n",
    "pyDatalog.create_terms('X,Y,Z')"
   ]
  },
  {
   "cell_type": "code",
   "execution_count": 3,
   "metadata": {
    "collapsed": false
   },
   "outputs": [
    {
     "name": "stdout",
     "output_type": "stream",
     "text": [
      "X\n",
      "-\n",
      "0\n",
      "3\n",
      "4\n",
      "1\n",
      "2\n",
      "\n",
      "0\n",
      "1\n",
      "2\n",
      "3\n",
      "4\n"
     ]
    }
   ],
   "source": [
    "# give me all the X so that X is in the range 0..4\n",
    "print(X.in_((0,1,2,3,4)))\n",
    "\n",
    "print\n",
    "\n",
    "# here is the procedural equivalent\n",
    "for x in range(5):\n",
    "    print x"
   ]
  },
  {
   "cell_type": "markdown",
   "metadata": {},
   "source": [
    "The result of a query is a set of its possible solutions, in random order. Each solution has 1 value for each variable in the query. The .data attribute gives access to the result."
   ]
  },
  {
   "cell_type": "code",
   "execution_count": 4,
   "metadata": {
    "collapsed": false
   },
   "outputs": [
    {
     "name": "stdout",
     "output_type": "stream",
     "text": [
      "[(0,), (2,), (1,), (4,), (3,)]\n",
      "True\n"
     ]
    }
   ],
   "source": [
    "print(X.in_(range(5)).data)\n",
    "print(X.in_(range(5)) == set([(0,), (1,), (2,), (3,), (4,)]))"
   ]
  },
  {
   "cell_type": "code",
   "execution_count": 8,
   "metadata": {
    "collapsed": false
   },
   "outputs": [
    {
     "name": "stdout",
     "output_type": "stream",
     "text": [
      "('Data : ', [4, 3, 0, 2, 1])\n",
      "('First value : ', 4)\n",
      "('Extraction of first value of X: ', 2)\n"
     ]
    }
   ],
   "source": [
    "print(\"Data : \",X.data)\n",
    "print(\"First value : \",  X.v())\n",
    "# below, '>=' is a variable extraction operator\n",
    "print(\"Extraction of first value of X: \", X.in_(range(5)) >= X)"
   ]
  },
  {
   "cell_type": "code",
   "execution_count": 9,
   "metadata": {
    "collapsed": false
   },
   "outputs": [
    {
     "name": "stdout",
     "output_type": "stream",
     "text": [
      "X\n",
      "-\n",
      "1\n",
      "0\n"
     ]
    }
   ],
   "source": [
    "# give me all X in range 0..4 that are below 2\n",
    "print(X.in_(range(5)) & (X<2))"
   ]
  },
  {
   "cell_type": "code",
   "execution_count": 10,
   "metadata": {
    "collapsed": false
   },
   "outputs": [
    {
     "name": "stdout",
     "output_type": "stream",
     "text": [
      "X | Y | Z\n",
      "--|---|--\n",
      "2 | 0 | 2\n",
      "0 | 1 | 1\n",
      "0 | 0 | 0\n",
      "1 | 0 | 1\n",
      "0 | 2 | 2\n",
      "1 | 1 | 2\n"
     ]
    }
   ],
   "source": [
    "# give me all X, Y and Z so that X and Y are in 0..4, Z is their sum, and Z is below 3\n",
    "print(X.in_(range(5)) &\n",
    "          Y.in_(range(5)) &\n",
    "              (Z==X+Y) &\n",
    "              (Z<3))"
   ]
  },
  {
   "cell_type": "markdown",
   "metadata": {},
   "source": [
    "# Logic Functions and dictionnaries"
   ]
  },
  {
   "cell_type": "code",
   "execution_count": 11,
   "metadata": {
    "collapsed": true
   },
   "outputs": [],
   "source": [
    "from pyDatalog import pyDatalog\n",
    "\n",
    "# Logic function names should start with lower case.\n",
    "pyDatalog.create_terms('X,Y,Z, salary, tax_rate, tax_rate_for_salary_above, net_salary')"
   ]
  },
  {
   "cell_type": "markdown",
   "metadata": {},
   "source": [
    "Function can be defined with value:"
   ]
  },
  {
   "cell_type": "code",
   "execution_count": 19,
   "metadata": {
    "collapsed": true
   },
   "outputs": [],
   "source": [
    "salary['foo'] = 60\n",
    "salary['bar'] = 110\n",
    "salary['baz'] = 130\n",
    "\n",
    "# Python equivalent\n",
    "_salary = dict()\n",
    "_salary['foo'] = 60\n",
    "_salary['bar'] = 110\n",
    "_salary['baz'] = 130"
   ]
  },
  {
   "cell_type": "markdown",
   "metadata": {},
   "source": [
    "Or can be queried:"
   ]
  },
  {
   "cell_type": "code",
   "execution_count": 27,
   "metadata": {
    "collapsed": false
   },
   "outputs": [
    {
     "name": "stdout",
     "output_type": "stream",
     "text": [
      "X   | Y  \n",
      "----|----\n",
      "foo | 70 \n",
      "baz | 130\n",
      "bar | 110\n",
      "\n",
      "[('baz', 130), ('foo', 70), ('bar', 110)]\n"
     ]
    }
   ],
   "source": [
    "# give me all the X and Y so that the salary of X is Y\n",
    "print(salary[X]==Y)\n",
    "print\n",
    "# python equivalent\n",
    "print(_salary.items())"
   ]
  },
  {
   "cell_type": "code",
   "execution_count": 28,
   "metadata": {
    "collapsed": false
   },
   "outputs": [
    {
     "name": "stdout",
     "output_type": "stream",
     "text": [
      "Y \n",
      "--\n",
      "70\n",
      "\n",
      "foo --> 70\n"
     ]
    }
   ],
   "source": [
    "# foo now has a salary of 70\n",
    "salary['foo'] = 70\n",
    "print(salary['foo']==Y)\n",
    "print\n",
    "\n",
    "# Python equivalent\n",
    "_salary['foo'] = 70\n",
    "print('foo --> ' + str(_salary['foo']))"
   ]
  },
  {
   "cell_type": "markdown",
   "metadata": {},
   "source": [
    "Querying just like in database systems."
   ]
  },
  {
   "cell_type": "code",
   "execution_count": 31,
   "metadata": {
    "collapsed": false
   },
   "outputs": [
    {
     "name": "stdout",
     "output_type": "stream",
     "text": [
      "X  \n",
      "---\n",
      "bar\n",
      "foo\n",
      "X   | Y  \n",
      "----|----\n",
      "foo | 70 \n",
      "bar | 110\n",
      "\n",
      "foo --> 70\n",
      "bar --> 110\n"
     ]
    }
   ],
   "source": [
    "# give me all the X that have a salary smaller than 120\n",
    "print((salary[X]<120))\n",
    "\n",
    "# give me all the X with salary Y where Y is smaller than 120\n",
    "print((salary[X]==Y) & (Y<120))\n",
    "\n",
    "print\n",
    "\n",
    "# procedural equivalent in python\n",
    "for i, j in _salary.items():\n",
    "    if j<120:\n",
    "        print i, '-->', j"
   ]
  },
  {
   "cell_type": "code",
   "execution_count": 32,
   "metadata": {
    "collapsed": false
   },
   "outputs": [
    {
     "name": "stdout",
     "output_type": "stream",
     "text": [
      "X   | Y  \n",
      "----|----\n",
      "baz | 130\n",
      "foo | 70 \n"
     ]
    }
   ],
   "source": [
    "# negation\n",
    "print((salary[X]==Y) & ~(Y==110))"
   ]
  },
  {
   "cell_type": "markdown",
   "metadata": {},
   "source": [
    "Add `+` to define global variables."
   ]
  },
  {
   "cell_type": "code",
   "execution_count": 33,
   "metadata": {
    "collapsed": true
   },
   "outputs": [],
   "source": [
    "# the standard tax rate is 33%\n",
    "+(tax_rate[None]==0.33)"
   ]
  },
  {
   "cell_type": "code",
   "execution_count": 34,
   "metadata": {
    "collapsed": false
   },
   "outputs": [
    {
     "name": "stdout",
     "output_type": "stream",
     "text": [
      "X   | Z   \n",
      "----|-----\n",
      "bar | 73.7\n",
      "baz | 87.1\n",
      "foo | 46.9\n"
     ]
    }
   ],
   "source": [
    "# give me the net salary for all X\n",
    "print((Z==salary[X]*(1-tax_rate[None])))"
   ]
  },
  {
   "cell_type": "markdown",
   "metadata": {},
   "source": [
    "In this case, X is bound by salary[X], so the expression can be evaluated.\n",
    "\n",
    "A function can also be defined by a clause. Here is a simple example:"
   ]
  },
  {
   "cell_type": "code",
   "execution_count": 36,
   "metadata": {
    "collapsed": true
   },
   "outputs": [],
   "source": [
    "# the net salary of X is Y if Y is the salary of X, reduced by the tax rate\n",
    "net_salary[X] = salary[X]*(1-tax_rate[None])"
   ]
  },
  {
   "cell_type": "code",
   "execution_count": 37,
   "metadata": {
    "collapsed": false
   },
   "outputs": [
    {
     "name": "stdout",
     "output_type": "stream",
     "text": [
      "X   | Y   \n",
      "----|-----\n",
      "foo | 46.9\n",
      "baz | 87.1\n",
      "bar | 73.7\n",
      "\n",
      "baz 87.1\n",
      "foo 46.9\n",
      "bar 73.7\n"
     ]
    }
   ],
   "source": [
    "# give me all the X and Y so that Y is the net salary of X\n",
    "print(net_salary[X]==Y)\n",
    "print\n",
    "\n",
    "# procedural equivalent in Python\n",
    "for i,j in _salary.items():\n",
    "    k = j*(1-0.33)\n",
    "    print i, k"
   ]
  },
  {
   "cell_type": "code",
   "execution_count": 38,
   "metadata": {
    "collapsed": false
   },
   "outputs": [
    {
     "name": "stdout",
     "output_type": "stream",
     "text": [
      "Y   \n",
      "----\n",
      "46.9\n",
      "\n",
      "Y  \n",
      "---\n",
      "foo\n"
     ]
    }
   ],
   "source": [
    "# give me the net salary of foo\n",
    "print(net_salary['foo']==Y)\n",
    "print\n",
    "print(net_salary[Y]<50)"
   ]
  },
  {
   "cell_type": "markdown",
   "metadata": {},
   "source": [
    "## Now it gets more interesting\n",
    "\n",
    "With logic programming, we can keep relations in variables i.e. not just values as in functional programming.\n",
    "\n",
    "In the code below, we want to keep different amount of tax rate depending on salary amount."
   ]
  },
  {
   "cell_type": "code",
   "execution_count": 40,
   "metadata": {
    "collapsed": false
   },
   "outputs": [
    {
     "name": "stdout",
     "output_type": "stream",
     "text": [
      "Y   \n",
      "----\n",
      "0.33\n",
      "\n",
      "Y  \n",
      "---\n",
      "0.5\n"
     ]
    }
   ],
   "source": [
    "# the tax rate for salaries above 0 is 33%, and above 100 is 50 %\n",
    "(tax_rate_for_salary_above[X] == 0.33) <= (0 <= X)\n",
    "(tax_rate_for_salary_above[X] == 0.50) <= (100 <= X)\n",
    "print(tax_rate_for_salary_above[70]==Y)\n",
    "print\n",
    "print(tax_rate_for_salary_above[150]==Y)\n",
    "\n",
    "# There's no way to keep this information with such small number of lines in functional programming!"
   ]
  },
  {
   "cell_type": "markdown",
   "metadata": {},
   "source": [
    "The '<=' is the important token in the statements above : it is read 'if'.\n",
    "\n",
    "The most general definition of the function is given first. When searching for possible answers, pyDatalog begins with the last rule defined, i.e. the more specific, and stops as soon as a valid answer is found for the function. So, even though the 2 rules seem to apply for a salary of 150, the second one is actually used to obtain 50 %\n",
    "\n",
    "Redefining net_salary:"
   ]
  },
  {
   "cell_type": "code",
   "execution_count": 41,
   "metadata": {
    "collapsed": false
   },
   "outputs": [
    {
     "name": "stdout",
     "output_type": "stream",
     "text": [
      "X   | Y   \n",
      "----|-----\n",
      "foo | 46.9\n",
      "bar | 55.0\n",
      "baz | 65.0\n"
     ]
    }
   ],
   "source": [
    "# retract our previous definition of net_salary\n",
    "del net_salary[X]\n",
    "\n",
    "net_salary[X] = salary[X]*(1-tax_rate_for_salary_above[salary[X]])\n",
    "# give me all X and Y so that Y is the net salary of X\n",
    "print(net_salary[X]==Y)"
   ]
  },
  {
   "cell_type": "code",
   "execution_count": 47,
   "metadata": {
    "collapsed": false
   },
   "outputs": [
    {
     "name": "stdout",
     "output_type": "stream",
     "text": [
      "N      \n",
      "-------\n",
      "3628800\n"
     ]
    }
   ],
   "source": [
    "pyDatalog.create_terms('factorial, N')\n",
    "\n",
    "factorial[N] = N*factorial[N-1]\n",
    "factorial[1] = 1\n",
    "\n",
    "print(factorial[10]==N)"
   ]
  },
  {
   "cell_type": "markdown",
   "metadata": {},
   "source": [
    "# Aggregate functions"
   ]
  },
  {
   "cell_type": "code",
   "execution_count": 49,
   "metadata": {
    "collapsed": true
   },
   "outputs": [],
   "source": [
    "from pyDatalog import pyDatalog\n",
    "pyDatalog.create_terms('X,Y,manager, count_of_direct_reports')\n",
    "\n",
    "# the manager of Mary is John\n",
    "+(manager['Mary'] == 'John')\n",
    "+(manager['Sam']  == 'Mary')\n",
    "+(manager['Tom']  == 'Mary')"
   ]
  },
  {
   "cell_type": "code",
   "execution_count": 51,
   "metadata": {
    "collapsed": false
   },
   "outputs": [
    {
     "name": "stdout",
     "output_type": "stream",
     "text": [
      "Y\n",
      "-\n",
      "2\n"
     ]
    }
   ],
   "source": [
    "(count_of_direct_reports[X]==len_(Y)) <= (manager[Y]==X)\n",
    "print(count_of_direct_reports['Mary']==Y)"
   ]
  },
  {
   "cell_type": "markdown",
   "metadata": {},
   "source": [
    "# Literals and sets (This is how to add concepts!)"
   ]
  },
  {
   "cell_type": "code",
   "execution_count": 53,
   "metadata": {
    "collapsed": true
   },
   "outputs": [],
   "source": [
    "from pyDatalog import pyDatalog\n",
    "pyDatalog.create_terms('X,Y,Z, works_in, department_size, manager, indirect_manager, count_of_indirect_reports')"
   ]
  },
  {
   "cell_type": "code",
   "execution_count": 54,
   "metadata": {
    "collapsed": true
   },
   "outputs": [],
   "source": [
    "# Mary works in Production\n",
    "+ works_in('Mary', 'Production')\n",
    "+ works_in('Sam',  'Marketing')\n",
    "\n",
    "+ works_in('John', 'Production')\n",
    "+ works_in('John', 'Marketing')\n",
    "\n",
    "# procedural equivalent in Python\n",
    "_works_in = set()\n",
    "_works_in.add(('Mary', 'Production'))\n",
    "_works_in.add(('Sam',  'Marketing'))\n",
    "_works_in.add(('John', 'Production'))\n",
    "_works_in.add(('John', 'Marketing'))"
   ]
  },
  {
   "cell_type": "code",
   "execution_count": 55,
   "metadata": {
    "collapsed": false
   },
   "outputs": [
    {
     "name": "stdout",
     "output_type": "stream",
     "text": [
      "X   \n",
      "----\n",
      "John\n",
      "Sam \n",
      "\n",
      "Sam\n",
      "John\n"
     ]
    }
   ],
   "source": [
    "# give me all the X that work in Marketing\n",
    "print(works_in(X,  'Marketing'))\n",
    "print\n",
    "\n",
    "# procedural equivalent in Python\n",
    "for i in _works_in:\n",
    "    if i[1]=='Marketing':\n",
    "        print i[0]"
   ]
  },
  {
   "cell_type": "code",
   "execution_count": null,
   "metadata": {
    "collapsed": true
   },
   "outputs": [],
   "source": []
  }
 ],
 "metadata": {
  "kernelspec": {
   "display_name": "Python 2",
   "language": "python",
   "name": "python2"
  },
  "language_info": {
   "codemirror_mode": {
    "name": "ipython",
    "version": 2
   },
   "file_extension": ".py",
   "mimetype": "text/x-python",
   "name": "python",
   "nbconvert_exporter": "python",
   "pygments_lexer": "ipython2",
   "version": "2.7.10"
  }
 },
 "nbformat": 4,
 "nbformat_minor": 0
}
