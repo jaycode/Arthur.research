{
 "cells": [
  {
   "cell_type": "markdown",
   "metadata": {},
   "source": [
    "# Converting concepts into features and targets\n",
    "\n",
    "Features should be a matrix:\n",
    "```\n",
    "[[ 0.  0.  0. ...,  0.  0.  0.]\n",
    " [ 0.  0.  0. ...,  0.  0.  0.]\n",
    " [ 0.  0.  0. ...,  0.  0.  0.]\n",
    " ..., \n",
    " [ 0.  0.  0. ...,  0.  0.  0.]\n",
    " [ 0.  0.  0. ...,  0.  0.  0.]\n",
    " [ 0.  0.  0. ...,  0.  0.  0.]]\n",
    "```\n",
    "\n",
    "While targets / labels are 1-D arrays of integers:\n",
    "```\n",
    "[8 1 4 ..., 7 7 1]\n",
    "```\n",
    "\n",
    "Our next big question should be: What kind of structure should a concept has, that allows document content to be converted into features.\n",
    "\n",
    "## 1. Sample of features and targets in Arthur\n",
    "\n",
    "In this example we will try converting a sentence into a set of features. In practice, this sentence would be contained within a block, and it has been labeled as the value from another block's hint.\n",
    "\n",
    "Let `value_block` be the block containing this text which contains a `value`, `hint_block` be the block containing a `hint` of this concept.\n",
    "\n",
    "We also throw in some other blocks so that training and testing can be initiated."
   ]
  },
  {
   "cell_type": "code",
   "execution_count": null,
   "metadata": {
    "collapsed": true
   },
   "outputs": [],
   "source": [
    "# Taken from document 10093137.pdf\n",
    "value_block = {\n",
    "    'block_id': 12,\n",
    "    'text': 'Single Family'\n",
    "}\n",
    "\n",
    "value = 'single family'\n",
    "\n",
    "hint_block: {\n",
    "    'block_id': 12,\n",
    "    'text': 'Property Type',\n",
    "}\n",
    "    \n",
    "hint = 'property type'\n",
    "\n",
    "other_blocks = [\n",
    "    {\n",
    "        'block_id': 5,\n",
    "        'text': 'http://www.realtor.ca/propertyDetails.aspx?PropertyId=15119807'\n",
    "    },\n",
    "    {\n",
    "        'block_id': 6,\n",
    "        'text': '6/1/2015'\n",
    "    },\n",
    "    {\n",
    "        'block_id': 24,\n",
    "        'text': 'Take NB 1 East. Take exit 56. Left onto NB 172 which turns into NB 780. Left onto Route 785. 1191 is on the left.'\n",
    "    },\n",
    "    {\n",
    "        'block_id': 22,\n",
    "        'text': 'Finest property in New Brunswick! Modern, luxurious, architectural home takes full advantage of center stage on Lake Utopia in St. George. Panoramic views of the lake, 27,000 sq.ft.under roof and 100+ acres of unspoiled natural beauty. Experience resort-style living with 3 homes, 2 tournament quality outdoor tennis courts, and 1 stadium quality indoor tennis court with state-of-the-art indoor stadium lighting, water park including 2 pools & wading pool with umbrella feature, beach volleyball court, baseball field, custom go-kart track, driving range, indoor basketball court, playground, private dock with boat lift and 3 private beaches. Main home offers expanses of glass flooding the interior with brilliant light, sleek contemporary design, dramatic master suite with custom shower/central tub showcasing unparalleled views, master lanai with drapery screening and built-in Jacuzzi. Two guest homes provide luxurious privacy for visitors enjoying this exquisite estate. Welcome to paradise!'\n",
    "    },\n",
    "    {\n",
    "        'block_id': 51,\n",
    "        'text': 'Heating Type Forced air, Heat Pump'\n",
    "    }\n",
    "]\n",
    "\n",
    "feature = {\n",
    "    ''\n",
    "}"
   ]
  },
  {
   "cell_type": "code",
   "execution_count": null,
   "metadata": {
    "collapsed": true
   },
   "outputs": [],
   "source": []
  },
  {
   "cell_type": "code",
   "execution_count": null,
   "metadata": {
    "collapsed": true
   },
   "outputs": [],
   "source": [
    "concepts = [\n",
    "    {\n",
    "        'name': 'property type'\n",
    "        'doc_name': '13070000.pdf'\n",
    "        'hints': ['property type'], # textcase should not matter\n",
    "        'values': ['Single Family']\n",
    "    },\n",
    "]\n",
    "\n",
    "concept = ArthurConcept(concept_builder)\n",
    "\n"
   ]
  }
 ],
 "metadata": {
  "kernelspec": {
   "display_name": "Python 2",
   "language": "python",
   "name": "python2"
  },
  "language_info": {
   "codemirror_mode": {
    "name": "ipython",
    "version": 2
   },
   "file_extension": ".py",
   "mimetype": "text/x-python",
   "name": "python",
   "nbconvert_exporter": "python",
   "pygments_lexer": "ipython2",
   "version": "2.7.6"
  }
 },
 "nbformat": 4,
 "nbformat_minor": 0
}
