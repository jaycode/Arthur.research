{
 "cells": [
  {
   "cell_type": "markdown",
   "metadata": {},
   "source": [
    "# Learning Documents With NLTK\n",
    "\n",
    "Let's explore the possibility of learning the documents by creating a corpus for them in python's NLTK package. This is important to help Arthur learns [collocations](http://www.nltk.org/howto/collocations.html) (expressions with multiple words), so it knows when to split tokens with more than one word.\n",
    "\n",
    "The goal here is to split this text, for example:\n",
    "\n",
    "```\n",
    "Finest property in New Brunswick! Modern, luxurious, architectural home takes full advantage of center stage on Lake Utopia in St. George. Panoramic views of the lake, 27,000 sq.ft.under roof and 100+ acres of unspoiled natural beauty. Experience resort-style living with 3 homes, 2 tournament quality outdoor tennis courts, and 1 stadium quality indoor tennis court with state-of-the-art indoor stadium lighting, water park including 2 pools & wading pool with umbrella feature, beach volleyball court, baseball field, custom go-kart track, driving range, indoor basketball court, playground, private dock with boat lift and 3 private beaches. Main home offers expanses of glass flooding the interior with brilliant light, sleek contemporary design, dramatic master suite with custom shower/central tub showcasing unparalleled views, master lanai with drapery screening and built-in Jacuzzi. Two guest homes provide luxurious privacy for visitors enjoying this exquisite estate. Welcome to paradise!\n",
    "```\n",
    "\n",
    "Into this:\n",
    "\n",
    "```\n",
    "[('finest', ), 'property', 'in', '']\n",
    "```\n",
    "\n",
    "Then with human aid turn it into concepts:\n",
    "\n",
    "```\n",
    "[\n",
    "    {\n",
    "        name: 'location',\n",
    "        values: ['new brunswick', 'st. george'],\n",
    "        hints: ['in']\n",
    "    },\n",
    "    {\n",
    "        name: 'features',\n",
    "        values: ['modern', 'luxurious', 'architectural', 'tennis courts', 'built-in jacuzzi', ...]\n",
    "    },\n",
    "    {\n",
    "        name: 'bulding size',\n",
    "        values: ['27,000 sq.ft'],\n",
    "        hints: ['under roof']\n",
    "    },\n",
    "    {\n",
    "        name: 'land size',\n",
    "        values: ['100+ acres'],\n",
    "        hints: ['unspoiled natural beauty']\n",
    "    },\n",
    "    ...\n",
    "]\n",
    "```\n",
    "\n",
    "## 1. Multi-Word Expression Tokenizer\n",
    "\n",
    "For now, let's try using out-of-the-box's Multi-Word Expression Tokenizer from NLTK package."
   ]
  },
  {
   "cell_type": "code",
   "execution_count": null,
   "metadata": {
    "collapsed": true
   },
   "outputs": [],
   "source": [
    "from nltk import word_tokenize\n",
    "from nltk.tokenize import MWETokenizer\n",
    "text = \"Finest property in New Brunswick! Modern, luxurious, architectural home takes full advantage of center stage on Lake Utopia in St. George. Panoramic views of the lake, 27,000 sq.ft.under roof and 100+ acres of unspoiled natural beauty. Experience resort-style living with 3 homes, 2 tournament quality outdoor tennis courts, and 1 stadium quality indoor tennis court with state-of-the-art indoor stadium lighting, water park including 2 pools & wading pool with umbrella feature, beach volleyball court, baseball field, custom go-kart track, driving range, indoor basketball court, playground, private dock with boat lift and 3 private beaches. Main home offers expanses of glass flooding the interior with brilliant light, sleek contemporary design, dramatic master suite with custom shower/central tub showcasing unparalleled views, master lanai with drapery screening and built-in Jacuzzi. Two guest homes provide luxurious privacy for visitors enjoying this exquisite estate. Welcome to paradise!\"\n",
    "tokens = word_tokenize(text)\n",
    "MWETokenizer\n"
   ]
  }
 ],
 "metadata": {
  "kernelspec": {
   "display_name": "Python 2",
   "language": "python",
   "name": "python2"
  },
  "language_info": {
   "codemirror_mode": {
    "name": "ipython",
    "version": 2
   },
   "file_extension": ".py",
   "mimetype": "text/x-python",
   "name": "python",
   "nbconvert_exporter": "python",
   "pygments_lexer": "ipython2",
   "version": "2.7.6"
  }
 },
 "nbformat": 4,
 "nbformat_minor": 0
}
