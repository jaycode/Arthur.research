{
 "cells": [
  {
   "cell_type": "code",
   "execution_count": null,
   "metadata": {
    "collapsed": true
   },
   "outputs": [],
   "source": [
    "block(200,20,100,10)\n",
    "label_block(\"dimension\", \"Dimension\"),\n",
    "block(200,20,48,10)\n",
    "label_block_regex(\"[0-9.]\", \"width\", float)\n",
    "create_formatter(\"unit_formatter\", {\"m\": \"meter\"})\n",
    "label_block_regex(\"[a-z]\", \"unit\", unit_formatter)\n",
    "adopt_block(\"dimension\", \"Dimension\")\n",
    "adopt_block(\"dimension\", \"height\")\n",
    "adopt_block(\"dimension\", \"unit\")"
   ]
  }
 ],
 "metadata": {
  "kernelspec": {
   "display_name": "Python 2",
   "language": "python",
   "name": "python2"
  },
  "language_info": {
   "codemirror_mode": {
    "name": "ipython",
    "version": 2
   },
   "file_extension": ".py",
   "mimetype": "text/x-python",
   "name": "python",
   "nbconvert_exporter": "python",
   "pygments_lexer": "ipython2",
   "version": "2.7.6"
  }
 },
 "nbformat": 4,
 "nbformat_minor": 0
}
